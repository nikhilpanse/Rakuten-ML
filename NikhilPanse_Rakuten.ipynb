{
 "cells": [
  {
   "cell_type": "code",
   "execution_count": 1,
   "metadata": {
    "collapsed": true
   },
   "outputs": [],
   "source": [
    "import numpy as np\n",
    "import pandas as pd\n",
    "import matplotlib.pyplot as plt\n",
    "import seaborn as sns\n",
    "from sklearn.preprocessing import LabelEncoder\n",
    "sns.set(style=\"white\")\n",
    "%matplotlib inline"
   ]
  },
  {
   "cell_type": "markdown",
   "metadata": {},
   "source": [
    "## Loading Data"
   ]
  },
  {
   "cell_type": "code",
   "execution_count": 2,
   "metadata": {
    "collapsed": true
   },
   "outputs": [],
   "source": [
    "data = pd.read_csv(\"data.csv\")"
   ]
  },
  {
   "cell_type": "code",
   "execution_count": 3,
   "metadata": {
    "scrolled": true
   },
   "outputs": [
    {
     "data": {
      "text/html": [
       "<div>\n",
       "<style scoped>\n",
       "    .dataframe tbody tr th:only-of-type {\n",
       "        vertical-align: middle;\n",
       "    }\n",
       "\n",
       "    .dataframe tbody tr th {\n",
       "        vertical-align: top;\n",
       "    }\n",
       "\n",
       "    .dataframe thead th {\n",
       "        text-align: right;\n",
       "    }\n",
       "</style>\n",
       "<table border=\"1\" class=\"dataframe\">\n",
       "  <thead>\n",
       "    <tr style=\"text-align: right;\">\n",
       "      <th></th>\n",
       "      <th>mpg</th>\n",
       "      <th>cylinders</th>\n",
       "      <th>displacement</th>\n",
       "      <th>horsepower</th>\n",
       "      <th>weight</th>\n",
       "      <th>acceleration</th>\n",
       "      <th>model year</th>\n",
       "      <th>origin</th>\n",
       "      <th>car name</th>\n",
       "    </tr>\n",
       "  </thead>\n",
       "  <tbody>\n",
       "    <tr>\n",
       "      <th>0</th>\n",
       "      <td>18.0</td>\n",
       "      <td>8</td>\n",
       "      <td>307.0</td>\n",
       "      <td>130.0</td>\n",
       "      <td>3504</td>\n",
       "      <td>12.0</td>\n",
       "      <td>70</td>\n",
       "      <td>1</td>\n",
       "      <td>chevrolet chevelle malibu</td>\n",
       "    </tr>\n",
       "    <tr>\n",
       "      <th>1</th>\n",
       "      <td>15.0</td>\n",
       "      <td>8</td>\n",
       "      <td>350.0</td>\n",
       "      <td>165.0</td>\n",
       "      <td>3693</td>\n",
       "      <td>11.5</td>\n",
       "      <td>70</td>\n",
       "      <td>1</td>\n",
       "      <td>buick skylark 320</td>\n",
       "    </tr>\n",
       "    <tr>\n",
       "      <th>2</th>\n",
       "      <td>18.0</td>\n",
       "      <td>8</td>\n",
       "      <td>318.0</td>\n",
       "      <td>150.0</td>\n",
       "      <td>3436</td>\n",
       "      <td>11.0</td>\n",
       "      <td>70</td>\n",
       "      <td>1</td>\n",
       "      <td>plymouth satellite</td>\n",
       "    </tr>\n",
       "    <tr>\n",
       "      <th>3</th>\n",
       "      <td>16.0</td>\n",
       "      <td>8</td>\n",
       "      <td>304.0</td>\n",
       "      <td>150.0</td>\n",
       "      <td>3433</td>\n",
       "      <td>NaN</td>\n",
       "      <td>70</td>\n",
       "      <td>1</td>\n",
       "      <td>amc rebel sst</td>\n",
       "    </tr>\n",
       "    <tr>\n",
       "      <th>4</th>\n",
       "      <td>17.0</td>\n",
       "      <td>8</td>\n",
       "      <td>302.0</td>\n",
       "      <td>140.0</td>\n",
       "      <td>3449</td>\n",
       "      <td>10.5</td>\n",
       "      <td>70</td>\n",
       "      <td>1</td>\n",
       "      <td>ford torino</td>\n",
       "    </tr>\n",
       "  </tbody>\n",
       "</table>\n",
       "</div>"
      ],
      "text/plain": [
       "    mpg  cylinders  displacement  horsepower  weight  acceleration  \\\n",
       "0  18.0          8         307.0       130.0    3504          12.0   \n",
       "1  15.0          8         350.0       165.0    3693          11.5   \n",
       "2  18.0          8         318.0       150.0    3436          11.0   \n",
       "3  16.0          8         304.0       150.0    3433           NaN   \n",
       "4  17.0          8         302.0       140.0    3449          10.5   \n",
       "\n",
       "   model year  origin                   car name  \n",
       "0          70       1  chevrolet chevelle malibu  \n",
       "1          70       1          buick skylark 320  \n",
       "2          70       1         plymouth satellite  \n",
       "3          70       1              amc rebel sst  \n",
       "4          70       1                ford torino  "
      ]
     },
     "execution_count": 3,
     "metadata": {},
     "output_type": "execute_result"
    }
   ],
   "source": [
    "data.head()"
   ]
  },
  {
   "cell_type": "code",
   "execution_count": 4,
   "metadata": {},
   "outputs": [
    {
     "data": {
      "text/html": [
       "<div>\n",
       "<style scoped>\n",
       "    .dataframe tbody tr th:only-of-type {\n",
       "        vertical-align: middle;\n",
       "    }\n",
       "\n",
       "    .dataframe tbody tr th {\n",
       "        vertical-align: top;\n",
       "    }\n",
       "\n",
       "    .dataframe thead th {\n",
       "        text-align: right;\n",
       "    }\n",
       "</style>\n",
       "<table border=\"1\" class=\"dataframe\">\n",
       "  <thead>\n",
       "    <tr style=\"text-align: right;\">\n",
       "      <th></th>\n",
       "      <th>mpg</th>\n",
       "      <th>cylinders</th>\n",
       "      <th>displacement</th>\n",
       "      <th>horsepower</th>\n",
       "      <th>weight</th>\n",
       "      <th>acceleration</th>\n",
       "      <th>model year</th>\n",
       "      <th>origin</th>\n",
       "    </tr>\n",
       "  </thead>\n",
       "  <tbody>\n",
       "    <tr>\n",
       "      <th>count</th>\n",
       "      <td>398.000000</td>\n",
       "      <td>398.000000</td>\n",
       "      <td>398.000000</td>\n",
       "      <td>392.000000</td>\n",
       "      <td>398.000000</td>\n",
       "      <td>394.000000</td>\n",
       "      <td>398.000000</td>\n",
       "      <td>398.000000</td>\n",
       "    </tr>\n",
       "    <tr>\n",
       "      <th>mean</th>\n",
       "      <td>23.514573</td>\n",
       "      <td>6.766332</td>\n",
       "      <td>193.425879</td>\n",
       "      <td>104.469388</td>\n",
       "      <td>2970.424623</td>\n",
       "      <td>15.575381</td>\n",
       "      <td>76.512563</td>\n",
       "      <td>1.572864</td>\n",
       "    </tr>\n",
       "    <tr>\n",
       "      <th>std</th>\n",
       "      <td>7.815984</td>\n",
       "      <td>20.365258</td>\n",
       "      <td>104.269838</td>\n",
       "      <td>38.491160</td>\n",
       "      <td>846.841774</td>\n",
       "      <td>2.765275</td>\n",
       "      <td>8.326377</td>\n",
       "      <td>0.802055</td>\n",
       "    </tr>\n",
       "    <tr>\n",
       "      <th>min</th>\n",
       "      <td>9.000000</td>\n",
       "      <td>3.000000</td>\n",
       "      <td>68.000000</td>\n",
       "      <td>46.000000</td>\n",
       "      <td>1613.000000</td>\n",
       "      <td>8.000000</td>\n",
       "      <td>70.000000</td>\n",
       "      <td>1.000000</td>\n",
       "    </tr>\n",
       "    <tr>\n",
       "      <th>25%</th>\n",
       "      <td>17.500000</td>\n",
       "      <td>4.000000</td>\n",
       "      <td>104.250000</td>\n",
       "      <td>75.000000</td>\n",
       "      <td>2223.750000</td>\n",
       "      <td>13.825000</td>\n",
       "      <td>73.000000</td>\n",
       "      <td>1.000000</td>\n",
       "    </tr>\n",
       "    <tr>\n",
       "      <th>50%</th>\n",
       "      <td>23.000000</td>\n",
       "      <td>4.000000</td>\n",
       "      <td>148.500000</td>\n",
       "      <td>93.500000</td>\n",
       "      <td>2803.500000</td>\n",
       "      <td>15.500000</td>\n",
       "      <td>76.000000</td>\n",
       "      <td>1.000000</td>\n",
       "    </tr>\n",
       "    <tr>\n",
       "      <th>75%</th>\n",
       "      <td>29.000000</td>\n",
       "      <td>8.000000</td>\n",
       "      <td>262.000000</td>\n",
       "      <td>126.000000</td>\n",
       "      <td>3608.000000</td>\n",
       "      <td>17.200000</td>\n",
       "      <td>79.000000</td>\n",
       "      <td>2.000000</td>\n",
       "    </tr>\n",
       "    <tr>\n",
       "      <th>max</th>\n",
       "      <td>46.600000</td>\n",
       "      <td>400.000000</td>\n",
       "      <td>455.000000</td>\n",
       "      <td>230.000000</td>\n",
       "      <td>5140.000000</td>\n",
       "      <td>24.800000</td>\n",
       "      <td>182.000000</td>\n",
       "      <td>3.000000</td>\n",
       "    </tr>\n",
       "  </tbody>\n",
       "</table>\n",
       "</div>"
      ],
      "text/plain": [
       "              mpg   cylinders  displacement  horsepower       weight  \\\n",
       "count  398.000000  398.000000    398.000000  392.000000   398.000000   \n",
       "mean    23.514573    6.766332    193.425879  104.469388  2970.424623   \n",
       "std      7.815984   20.365258    104.269838   38.491160   846.841774   \n",
       "min      9.000000    3.000000     68.000000   46.000000  1613.000000   \n",
       "25%     17.500000    4.000000    104.250000   75.000000  2223.750000   \n",
       "50%     23.000000    4.000000    148.500000   93.500000  2803.500000   \n",
       "75%     29.000000    8.000000    262.000000  126.000000  3608.000000   \n",
       "max     46.600000  400.000000    455.000000  230.000000  5140.000000   \n",
       "\n",
       "       acceleration  model year      origin  \n",
       "count    394.000000  398.000000  398.000000  \n",
       "mean      15.575381   76.512563    1.572864  \n",
       "std        2.765275    8.326377    0.802055  \n",
       "min        8.000000   70.000000    1.000000  \n",
       "25%       13.825000   73.000000    1.000000  \n",
       "50%       15.500000   76.000000    1.000000  \n",
       "75%       17.200000   79.000000    2.000000  \n",
       "max       24.800000  182.000000    3.000000  "
      ]
     },
     "execution_count": 4,
     "metadata": {},
     "output_type": "execute_result"
    }
   ],
   "source": [
    "data.describe()"
   ]
  },
  {
   "cell_type": "markdown",
   "metadata": {},
   "source": [
    "## Histogram"
   ]
  },
  {
   "cell_type": "code",
   "execution_count": 5,
   "metadata": {},
   "outputs": [
    {
     "data": {
      "text/plain": [
       "[]"
      ]
     },
     "execution_count": 5,
     "metadata": {},
     "output_type": "execute_result"
    },
    {
     "data": {
      "image/png": "[encoded data removed]",
      "text/plain": [
       "<matplotlib.figure.Figure at 0x1172fbcf8>"
      ]
     },
     "metadata": {},
     "output_type": "display_data"
    }
   ],
   "source": [
    "plt.hist(data[\"mpg\"])\n",
    "plt.plot()"
   ]
  },
  {
   "cell_type": "code",
   "execution_count": 6,
   "metadata": {},
   "outputs": [
    {
     "data": {
      "text/plain": [
       "4    203\n",
       "8    102\n",
       "6     83\n",
       "3      4\n",
       "5      3\n",
       "Name: cylinders, dtype: int64"
      ]
     },
     "execution_count": 6,
     "metadata": {},
     "output_type": "execute_result"
    }
   ],
   "source": [
    "data.loc[data[\"cylinders\"]<60][\"cylinders\"].value_counts()"
   ]
  },
  {
   "cell_type": "code",
   "execution_count": 7,
   "metadata": {},
   "outputs": [
    {
     "data": {
      "text/plain": [
       "[]"
      ]
     },
     "execution_count": 7,
     "metadata": {},
     "output_type": "execute_result"
    },
    {
     "data": {
      "image/png": "[encoded data removed]",
      "text/plain": [
       "<matplotlib.figure.Figure at 0x1172dee48>"
      ]
     },
     "metadata": {},
     "output_type": "display_data"
    }
   ],
   "source": [
    "plt.hist(data.loc[data[\"cylinders\"]<60][\"cylinders\"])\n",
    "plt.plot()"
   ]
  },
  {
   "cell_type": "markdown",
   "metadata": {},
   "source": [
    "## Violin Plots"
   ]
  },
  {
   "cell_type": "code",
   "execution_count": 8,
   "metadata": {},
   "outputs": [
    {
     "data": {
      "image/png": "[encoded data removed]",
      "text/plain": [
       "<matplotlib.figure.Figure at 0x1194805f8>"
      ]
     },
     "metadata": {},
     "output_type": "display_data"
    },
    {
     "data": {
      "image/png": "[encoded data removed]",
      "text/plain": [
       "<matplotlib.figure.Figure at 0x1195347b8>"
      ]
     },
     "metadata": {},
     "output_type": "display_data"
    },
    {
     "data": {
      "image/png": "[encoded data removed]",
      "text/plain": [
       "<matplotlib.figure.Figure at 0x11957d908>"
      ]
     },
     "metadata": {},
     "output_type": "display_data"
    },
    {
     "data": {
      "image/png": "[encoded data removed]",
      "text/plain": [
       "<matplotlib.figure.Figure at 0x1195bfef0>"
      ]
     },
     "metadata": {},
     "output_type": "display_data"
    },
    {
     "data": {
      "image/png": "[encoded data removed]",
      "text/plain": [
       "<matplotlib.figure.Figure at 0x1195bff28>"
      ]
     },
     "metadata": {},
     "output_type": "display_data"
    },
    {
     "data": {
      "image/png": "[encoded data removed]",
      "text/plain": [
       "<matplotlib.figure.Figure at 0x119641fd0>"
      ]
     },
     "metadata": {},
     "output_type": "display_data"
    }
   ],
   "source": [
    "fig1, ax1 = plt.subplots()\n",
    "ax1.set_title('Cylinders')\n",
    "ax1.violinplot(data[\"cylinders\"].interpolate())\n",
    "fig2, ax2 = plt.subplots()\n",
    "ax2.set_title('Displacement')\n",
    "ax2.violinplot(data[\"displacement\"].interpolate())\n",
    "fig3, ax3 = plt.subplots()\n",
    "ax3.set_title('Horsepower')\n",
    "ax3.violinplot(data[\"horsepower\"].interpolate())\n",
    "fig4, ax4 = plt.subplots()\n",
    "ax4.set_title('Weight')\n",
    "ax4.violinplot(data[\"weight\"].interpolate())\n",
    "fig5, ax5 = plt.subplots()\n",
    "ax5.set_title('Acceleration')\n",
    "ax5.violinplot(data[\"acceleration\"].interpolate())\n",
    "fig6, ax6 = plt.subplots()\n",
    "ax6.set_title('Model Year')\n",
    "ax6.violinplot(data[\"model year\"].interpolate())\n",
    "plt.show()"
   ]
  },
  {
   "cell_type": "markdown",
   "metadata": {},
   "source": [
    "## Label encoder"
   ]
  },
  {
   "cell_type": "code",
   "execution_count": 9,
   "metadata": {},
   "outputs": [
    {
     "name": "stderr",
     "output_type": "stream",
     "text": [
      "/Users/vrishank/anaconda3/lib/python3.6/site-packages/ipykernel_launcher.py:4: RuntimeWarning: invalid value encountered in less\n",
      "  after removing the cwd from sys.path.\n"
     ]
    }
   ],
   "source": [
    "from scipy import stats\n",
    "le = LabelEncoder()\n",
    "data[\"car name\"] = le.fit_transform(data[\"car name\"])\n",
    "data[(np.abs(stats.zscore(data)) < 2.8).all(axis=1)]\n",
    "data[\"cylinders\"] = data[\"cylinders\"].interpolate()\n",
    "data[\"displacement\"] = data[\"displacement\"].interpolate()\n",
    "data[\"horsepower\"] = data[\"horsepower\"].interpolate()\n",
    "data[\"weight\"] = data[\"weight\"].interpolate()\n",
    "data[\"acceleration\"] = data[\"acceleration\"].interpolate()\n",
    "data[\"origin\"] = data[\"origin\"].interpolate()"
   ]
  },
  {
   "cell_type": "code",
   "execution_count": 10,
   "metadata": {},
   "outputs": [
    {
     "data": {
      "text/html": [
       "<div>\n",
       "<style scoped>\n",
       "    .dataframe tbody tr th:only-of-type {\n",
       "        vertical-align: middle;\n",
       "    }\n",
       "\n",
       "    .dataframe tbody tr th {\n",
       "        vertical-align: top;\n",
       "    }\n",
       "\n",
       "    .dataframe thead th {\n",
       "        text-align: right;\n",
       "    }\n",
       "</style>\n",
       "<table border=\"1\" class=\"dataframe\">\n",
       "  <thead>\n",
       "    <tr style=\"text-align: right;\">\n",
       "      <th></th>\n",
       "      <th>mpg</th>\n",
       "      <th>cylinders</th>\n",
       "      <th>displacement</th>\n",
       "      <th>horsepower</th>\n",
       "      <th>weight</th>\n",
       "      <th>acceleration</th>\n",
       "      <th>model year</th>\n",
       "      <th>origin</th>\n",
       "      <th>car name</th>\n",
       "    </tr>\n",
       "  </thead>\n",
       "  <tbody>\n",
       "    <tr>\n",
       "      <th>mpg</th>\n",
       "      <td>1.000000</td>\n",
       "      <td>-0.060185</td>\n",
       "      <td>-0.804203</td>\n",
       "      <td>-0.777285</td>\n",
       "      <td>-0.831741</td>\n",
       "      <td>0.420683</td>\n",
       "      <td>0.247842</td>\n",
       "      <td>0.563450</td>\n",
       "      <td>0.273936</td>\n",
       "    </tr>\n",
       "    <tr>\n",
       "      <th>cylinders</th>\n",
       "      <td>-0.060185</td>\n",
       "      <td>1.000000</td>\n",
       "      <td>0.051196</td>\n",
       "      <td>0.014439</td>\n",
       "      <td>0.023986</td>\n",
       "      <td>0.031038</td>\n",
       "      <td>-0.047139</td>\n",
       "      <td>-0.032033</td>\n",
       "      <td>0.046125</td>\n",
       "    </tr>\n",
       "    <tr>\n",
       "      <th>displacement</th>\n",
       "      <td>-0.804203</td>\n",
       "      <td>0.051196</td>\n",
       "      <td>1.000000</td>\n",
       "      <td>0.897138</td>\n",
       "      <td>0.932824</td>\n",
       "      <td>-0.543373</td>\n",
       "      <td>-0.170725</td>\n",
       "      <td>-0.609409</td>\n",
       "      <td>-0.292064</td>\n",
       "    </tr>\n",
       "    <tr>\n",
       "      <th>horsepower</th>\n",
       "      <td>-0.777285</td>\n",
       "      <td>0.014439</td>\n",
       "      <td>0.897138</td>\n",
       "      <td>1.000000</td>\n",
       "      <td>0.863431</td>\n",
       "      <td>-0.685907</td>\n",
       "      <td>-0.215485</td>\n",
       "      <td>-0.451886</td>\n",
       "      <td>-0.235530</td>\n",
       "    </tr>\n",
       "    <tr>\n",
       "      <th>weight</th>\n",
       "      <td>-0.831741</td>\n",
       "      <td>0.023986</td>\n",
       "      <td>0.932824</td>\n",
       "      <td>0.863431</td>\n",
       "      <td>1.000000</td>\n",
       "      <td>-0.416971</td>\n",
       "      <td>-0.124918</td>\n",
       "      <td>-0.581024</td>\n",
       "      <td>-0.255247</td>\n",
       "    </tr>\n",
       "    <tr>\n",
       "      <th>acceleration</th>\n",
       "      <td>0.420683</td>\n",
       "      <td>0.031038</td>\n",
       "      <td>-0.543373</td>\n",
       "      <td>-0.685907</td>\n",
       "      <td>-0.416971</td>\n",
       "      <td>1.000000</td>\n",
       "      <td>0.140937</td>\n",
       "      <td>0.207396</td>\n",
       "      <td>0.130461</td>\n",
       "    </tr>\n",
       "    <tr>\n",
       "      <th>model year</th>\n",
       "      <td>0.247842</td>\n",
       "      <td>-0.047139</td>\n",
       "      <td>-0.170725</td>\n",
       "      <td>-0.215485</td>\n",
       "      <td>-0.124918</td>\n",
       "      <td>0.140937</td>\n",
       "      <td>1.000000</td>\n",
       "      <td>0.037015</td>\n",
       "      <td>0.008828</td>\n",
       "    </tr>\n",
       "    <tr>\n",
       "      <th>origin</th>\n",
       "      <td>0.563450</td>\n",
       "      <td>-0.032033</td>\n",
       "      <td>-0.609409</td>\n",
       "      <td>-0.451886</td>\n",
       "      <td>-0.581024</td>\n",
       "      <td>0.207396</td>\n",
       "      <td>0.037015</td>\n",
       "      <td>1.000000</td>\n",
       "      <td>0.360058</td>\n",
       "    </tr>\n",
       "    <tr>\n",
       "      <th>car name</th>\n",
       "      <td>0.273936</td>\n",
       "      <td>0.046125</td>\n",
       "      <td>-0.292064</td>\n",
       "      <td>-0.235530</td>\n",
       "      <td>-0.255247</td>\n",
       "      <td>0.130461</td>\n",
       "      <td>0.008828</td>\n",
       "      <td>0.360058</td>\n",
       "      <td>1.000000</td>\n",
       "    </tr>\n",
       "  </tbody>\n",
       "</table>\n",
       "</div>"
      ],
      "text/plain": [
       "                   mpg  cylinders  displacement  horsepower    weight  \\\n",
       "mpg           1.000000  -0.060185     -0.804203   -0.777285 -0.831741   \n",
       "cylinders    -0.060185   1.000000      0.051196    0.014439  0.023986   \n",
       "displacement -0.804203   0.051196      1.000000    0.897138  0.932824   \n",
       "horsepower   -0.777285   0.014439      0.897138    1.000000  0.863431   \n",
       "weight       -0.831741   0.023986      0.932824    0.863431  1.000000   \n",
       "acceleration  0.420683   0.031038     -0.543373   -0.685907 -0.416971   \n",
       "model year    0.247842  -0.047139     -0.170725   -0.215485 -0.124918   \n",
       "origin        0.563450  -0.032033     -0.609409   -0.451886 -0.581024   \n",
       "car name      0.273936   0.046125     -0.292064   -0.235530 -0.255247   \n",
       "\n",
       "              acceleration  model year    origin  car name  \n",
       "mpg               0.420683    0.247842  0.563450  0.273936  \n",
       "cylinders         0.031038   -0.047139 -0.032033  0.046125  \n",
       "displacement     -0.543373   -0.170725 -0.609409 -0.292064  \n",
       "horsepower       -0.685907   -0.215485 -0.451886 -0.235530  \n",
       "weight           -0.416971   -0.124918 -0.581024 -0.255247  \n",
       "acceleration      1.000000    0.140937  0.207396  0.130461  \n",
       "model year        0.140937    1.000000  0.037015  0.008828  \n",
       "origin            0.207396    0.037015  1.000000  0.360058  \n",
       "car name          0.130461    0.008828  0.360058  1.000000  "
      ]
     },
     "execution_count": 10,
     "metadata": {},
     "output_type": "execute_result"
    }
   ],
   "source": [
    "data.corr()"
   ]
  },
  {
   "cell_type": "markdown",
   "metadata": {},
   "source": [
    "## Plotting Heatmap"
   ]
  },
  {
   "cell_type": "code",
   "execution_count": 11,
   "metadata": {},
   "outputs": [
    {
     "data": {
      "text/plain": [
       "<matplotlib.axes._subplots.AxesSubplot at 0x1194632b0>"
      ]
     },
     "execution_count": 11,
     "metadata": {},
     "output_type": "execute_result"
    },
    {
     "data": {
      "image/png": "[encoded data removed]",
      "text/plain": [
       "<matplotlib.figure.Figure at 0x11936ce10>"
      ]
     },
     "metadata": {},
     "output_type": "display_data"
    }
   ],
   "source": [
    "f, ax = plt.subplots(figsize=(11, 9))\n",
    "sns.heatmap(data.corr())"
   ]
  },
  {
   "cell_type": "code",
   "execution_count": 12,
   "metadata": {},
   "outputs": [
    {
     "data": {
      "text/html": [
       "<div>\n",
       "<style scoped>\n",
       "    .dataframe tbody tr th:only-of-type {\n",
       "        vertical-align: middle;\n",
       "    }\n",
       "\n",
       "    .dataframe tbody tr th {\n",
       "        vertical-align: top;\n",
       "    }\n",
       "\n",
       "    .dataframe thead th {\n",
       "        text-align: right;\n",
       "    }\n",
       "</style>\n",
       "<table border=\"1\" class=\"dataframe\">\n",
       "  <thead>\n",
       "    <tr style=\"text-align: right;\">\n",
       "      <th></th>\n",
       "      <th>mpg</th>\n",
       "      <th>cylinders</th>\n",
       "      <th>displacement</th>\n",
       "      <th>horsepower</th>\n",
       "      <th>weight</th>\n",
       "      <th>acceleration</th>\n",
       "      <th>model year</th>\n",
       "      <th>origin</th>\n",
       "      <th>car name</th>\n",
       "    </tr>\n",
       "  </thead>\n",
       "  <tbody>\n",
       "    <tr>\n",
       "      <th>count</th>\n",
       "      <td>398.000000</td>\n",
       "      <td>398.000000</td>\n",
       "      <td>398.000000</td>\n",
       "      <td>398.000000</td>\n",
       "      <td>398.000000</td>\n",
       "      <td>398.000000</td>\n",
       "      <td>398.000000</td>\n",
       "      <td>398.000000</td>\n",
       "      <td>398.000000</td>\n",
       "    </tr>\n",
       "    <tr>\n",
       "      <th>mean</th>\n",
       "      <td>23.514573</td>\n",
       "      <td>6.766332</td>\n",
       "      <td>193.425879</td>\n",
       "      <td>104.149497</td>\n",
       "      <td>2970.424623</td>\n",
       "      <td>15.565327</td>\n",
       "      <td>76.512563</td>\n",
       "      <td>1.572864</td>\n",
       "      <td>148.550251</td>\n",
       "    </tr>\n",
       "    <tr>\n",
       "      <th>std</th>\n",
       "      <td>7.815984</td>\n",
       "      <td>20.365258</td>\n",
       "      <td>104.269838</td>\n",
       "      <td>38.311722</td>\n",
       "      <td>846.841774</td>\n",
       "      <td>2.766661</td>\n",
       "      <td>8.326377</td>\n",
       "      <td>0.802055</td>\n",
       "      <td>89.495880</td>\n",
       "    </tr>\n",
       "    <tr>\n",
       "      <th>min</th>\n",
       "      <td>9.000000</td>\n",
       "      <td>3.000000</td>\n",
       "      <td>68.000000</td>\n",
       "      <td>46.000000</td>\n",
       "      <td>1613.000000</td>\n",
       "      <td>8.000000</td>\n",
       "      <td>70.000000</td>\n",
       "      <td>1.000000</td>\n",
       "      <td>0.000000</td>\n",
       "    </tr>\n",
       "    <tr>\n",
       "      <th>25%</th>\n",
       "      <td>17.500000</td>\n",
       "      <td>4.000000</td>\n",
       "      <td>104.250000</td>\n",
       "      <td>75.000000</td>\n",
       "      <td>2223.750000</td>\n",
       "      <td>13.800000</td>\n",
       "      <td>73.000000</td>\n",
       "      <td>1.000000</td>\n",
       "      <td>65.250000</td>\n",
       "    </tr>\n",
       "    <tr>\n",
       "      <th>50%</th>\n",
       "      <td>23.000000</td>\n",
       "      <td>4.000000</td>\n",
       "      <td>148.500000</td>\n",
       "      <td>92.500000</td>\n",
       "      <td>2803.500000</td>\n",
       "      <td>15.500000</td>\n",
       "      <td>76.000000</td>\n",
       "      <td>1.000000</td>\n",
       "      <td>150.000000</td>\n",
       "    </tr>\n",
       "    <tr>\n",
       "      <th>75%</th>\n",
       "      <td>29.000000</td>\n",
       "      <td>8.000000</td>\n",
       "      <td>262.000000</td>\n",
       "      <td>125.000000</td>\n",
       "      <td>3608.000000</td>\n",
       "      <td>17.200000</td>\n",
       "      <td>79.000000</td>\n",
       "      <td>2.000000</td>\n",
       "      <td>225.750000</td>\n",
       "    </tr>\n",
       "    <tr>\n",
       "      <th>max</th>\n",
       "      <td>46.600000</td>\n",
       "      <td>400.000000</td>\n",
       "      <td>455.000000</td>\n",
       "      <td>230.000000</td>\n",
       "      <td>5140.000000</td>\n",
       "      <td>24.800000</td>\n",
       "      <td>182.000000</td>\n",
       "      <td>3.000000</td>\n",
       "      <td>304.000000</td>\n",
       "    </tr>\n",
       "  </tbody>\n",
       "</table>\n",
       "</div>"
      ],
      "text/plain": [
       "              mpg   cylinders  displacement  horsepower       weight  \\\n",
       "count  398.000000  398.000000    398.000000  398.000000   398.000000   \n",
       "mean    23.514573    6.766332    193.425879  104.149497  2970.424623   \n",
       "std      7.815984   20.365258    104.269838   38.311722   846.841774   \n",
       "min      9.000000    3.000000     68.000000   46.000000  1613.000000   \n",
       "25%     17.500000    4.000000    104.250000   75.000000  2223.750000   \n",
       "50%     23.000000    4.000000    148.500000   92.500000  2803.500000   \n",
       "75%     29.000000    8.000000    262.000000  125.000000  3608.000000   \n",
       "max     46.600000  400.000000    455.000000  230.000000  5140.000000   \n",
       "\n",
       "       acceleration  model year      origin    car name  \n",
       "count    398.000000  398.000000  398.000000  398.000000  \n",
       "mean      15.565327   76.512563    1.572864  148.550251  \n",
       "std        2.766661    8.326377    0.802055   89.495880  \n",
       "min        8.000000   70.000000    1.000000    0.000000  \n",
       "25%       13.800000   73.000000    1.000000   65.250000  \n",
       "50%       15.500000   76.000000    1.000000  150.000000  \n",
       "75%       17.200000   79.000000    2.000000  225.750000  \n",
       "max       24.800000  182.000000    3.000000  304.000000  "
      ]
     },
     "execution_count": 12,
     "metadata": {},
     "output_type": "execute_result"
    }
   ],
   "source": [
    "data.describe()"
   ]
  },
  {
   "cell_type": "code",
   "execution_count": 13,
   "metadata": {
    "collapsed": true
   },
   "outputs": [],
   "source": [
    "y = data[\"mpg\"]\n",
    "X = data.drop([\"mpg\"], axis=1)"
   ]
  },
  {
   "cell_type": "markdown",
   "metadata": {},
   "source": [
    "## Using ElasticNet model"
   ]
  },
  {
   "cell_type": "code",
   "execution_count": 14,
   "metadata": {
    "collapsed": true
   },
   "outputs": [],
   "source": [
    "from sklearn.linear_model import ElasticNetCV\n",
    "model = ElasticNetCV()"
   ]
  },
  {
   "cell_type": "code",
   "execution_count": 15,
   "metadata": {},
   "outputs": [
    {
     "data": {
      "text/plain": [
       "array([ 0.16389911,  0.73824877, -0.13174712])"
      ]
     },
     "execution_count": 15,
     "metadata": {},
     "output_type": "execute_result"
    }
   ],
   "source": [
    "from sklearn.model_selection import cross_val_score\n",
    "cross_val_score(model, X, y, cv=3)"
   ]
  },
  {
   "cell_type": "markdown",
   "metadata": {},
   "source": [
    "## Using LightGBM model"
   ]
  },
  {
   "cell_type": "code",
   "execution_count": 16,
   "metadata": {},
   "outputs": [
    {
     "data": {
      "text/plain": [
       "array([0.86210934, 0.85647717, 0.85627866, 0.79886361, 0.34433241])"
      ]
     },
     "execution_count": 16,
     "metadata": {},
     "output_type": "execute_result"
    }
   ],
   "source": [
    "from lightgbm import LGBMRegressor\n",
    "model = LGBMRegressor(boosting_type='gbdt', num_leaves=10, max_depth=4, learning_rate=0.005, n_estimators=675, max_bin=25, subsample_for_bin=50000, objective=None, min_split_gain=0, min_child_weight=5, min_child_samples=10, subsample=0.995, subsample_freq=1, colsample_bytree=1, reg_alpha=0, reg_lambda=0, seed=0, nthread=-1, silent=True)\n",
    "cross_val_score(model, X, y, cv=5)"
   ]
  },
  {
   "cell_type": "code",
   "execution_count": 17,
   "metadata": {},
   "outputs": [
    {
     "name": "stderr",
     "output_type": "stream",
     "text": [
      "/Users/vrishank/anaconda3/lib/python3.6/site-packages/sklearn/ensemble/weight_boosting.py:29: DeprecationWarning: numpy.core.umath_tests is an internal NumPy module and should not be imported. It will be removed in a future NumPy release.\n",
      "  from numpy.core.umath_tests import inner1d\n"
     ]
    },
    {
     "data": {
      "text/plain": [
       "array([0.13562921, 0.40613674, 0.14828642, 0.18372499, 0.00737995,\n",
       "       0.11160144, 0.00292036, 0.0043209 ])"
      ]
     },
     "execution_count": 17,
     "metadata": {},
     "output_type": "execute_result"
    }
   ],
   "source": [
    "from sklearn.ensemble import RandomForestRegressor\n",
    "regr = RandomForestRegressor(max_depth=4, random_state=0, n_estimators=100)\n",
    "regr.fit(X, y)\n",
    "regr.feature_importances_"
   ]
  },
  {
   "cell_type": "markdown",
   "metadata": {},
   "source": [
    "## Plotting Feature Importances from Random Forest Model"
   ]
  },
  {
   "cell_type": "code",
   "execution_count": 18,
   "metadata": {},
   "outputs": [
    {
     "data": {
      "image/png": "[encoded data removed]",
      "text/plain": [
       "<matplotlib.figure.Figure at 0x1200f4d68>"
      ]
     },
     "metadata": {},
     "output_type": "display_data"
    }
   ],
   "source": [
    "plt.figure(figsize=(20,10))\n",
    "plt.bar(np.arange(len(regr.feature_importances_)), regr.feature_importances_)\n",
    "plt.xticks(np.arange(len(regr.feature_importances_)), X.columns)\n",
    "plt.show()"
   ]
  },
  {
   "cell_type": "markdown",
   "metadata": {},
   "source": [
    "## Dropping Columns that are less important"
   ]
  },
  {
   "cell_type": "code",
   "execution_count": 19,
   "metadata": {
    "collapsed": true
   },
   "outputs": [],
   "source": [
    "for i, j in zip(regr.feature_importances_, X.columns):\n",
    "    if i<0.05:\n",
    "        data = data.drop(j, axis=1)"
   ]
  },
  {
   "cell_type": "markdown",
   "metadata": {},
   "source": [
    "## Using LightGBM model"
   ]
  },
  {
   "cell_type": "code",
   "execution_count": 20,
   "metadata": {},
   "outputs": [
    {
     "data": {
      "text/plain": [
       "array([0.7350357 , 0.83311671, 0.2416629 ])"
      ]
     },
     "execution_count": 20,
     "metadata": {},
     "output_type": "execute_result"
    }
   ],
   "source": [
    "model = LGBMRegressor(boosting_type='gbdt', num_leaves=10, max_depth=5, learning_rate=0.005, n_estimators=675, max_bin=25, subsample_for_bin=50000, objective=None, min_split_gain=0, min_child_weight=5, min_child_samples=10, subsample=0.995, subsample_freq=1, colsample_bytree=1, reg_alpha=0, reg_lambda=0, seed=0, nthread=-1, silent=True)\n",
    "cross_val_score(model, X, y, cv=3)"
   ]
  },
  {
   "cell_type": "markdown",
   "metadata": {},
   "source": [
    "## Using GridSearchCV"
   ]
  },
  {
   "cell_type": "code",
   "execution_count": 21,
   "metadata": {},
   "outputs": [
    {
     "name": "stdout",
     "output_type": "stream",
     "text": [
      "Fitting 5 folds for each of 32 candidates, totalling 160 fits\n",
      "[CV] max_depth=2, n_estimators=100 ...................................\n",
      "[CV]  max_depth=2, n_estimators=100, score=-0.063199654182859, total=   0.2s\n",
      "[Parallel(n_jobs=1)]: Done   1 out of   1 | elapsed:    0.2s remaining:    0.0s\n",
      "[CV] max_depth=2, n_estimators=100 ...................................\n",
      "[CV]  max_depth=2, n_estimators=100, score=0.09352502087074309, total=   0.1s\n",
      "[Parallel(n_jobs=1)]: Done   2 out of   2 | elapsed:    0.3s remaining:    0.0s\n",
      "[CV] max_depth=2, n_estimators=100 ...................................\n",
      "[CV]  max_depth=2, n_estimators=100, score=0.4551676065747966, total=   0.2s\n",
      "[Parallel(n_jobs=1)]: Done   3 out of   3 | elapsed:    0.5s remaining:    0.0s\n",
      "[CV] max_depth=2, n_estimators=100 ...................................\n",
      "[CV]  max_depth=2, n_estimators=100, score=0.42588211486545224, total=   0.2s\n",
      "[Parallel(n_jobs=1)]: Done   4 out of   4 | elapsed:    0.7s remaining:    0.0s\n",
      "[CV] max_depth=2, n_estimators=100 ...................................\n",
      "[CV]  max_depth=2, n_estimators=100, score=-1.7922607755423092, total=   0.2s\n",
      "[Parallel(n_jobs=1)]: Done   5 out of   5 | elapsed:    0.8s remaining:    0.0s\n",
      "[CV] max_depth=2, n_estimators=300 ...................................\n",
      "[CV]  max_depth=2, n_estimators=300, score=0.6162235465790127, total=   0.4s\n",
      "[Parallel(n_jobs=1)]: Done   6 out of   6 | elapsed:    1.2s remaining:    0.0s\n",
      "[CV] max_depth=2, n_estimators=300 ...................................\n",
      "[CV]  max_depth=2, n_estimators=300, score=0.638707262675934, total=   0.4s\n",
      "[Parallel(n_jobs=1)]: Done   7 out of   7 | elapsed:    1.6s remaining:    0.0s\n",
      "[CV] max_depth=2, n_estimators=300 ...................................\n",
      "[CV]  max_depth=2, n_estimators=300, score=0.8129300804400068, total=   0.3s\n",
      "[Parallel(n_jobs=1)]: Done   8 out of   8 | elapsed:    1.9s remaining:    0.0s\n",
      "[CV] max_depth=2, n_estimators=300 ...................................\n",
      "[CV]  max_depth=2, n_estimators=300, score=0.7513298282624602, total=   0.3s\n",
      "[Parallel(n_jobs=1)]: Done   9 out of   9 | elapsed:    2.2s remaining:    0.0s\n",
      "[CV] max_depth=2, n_estimators=300 ...................................\n",
      "[CV]  max_depth=2, n_estimators=300, score=-0.4386312109496386, total=   0.3s\n",
      "[Parallel(n_jobs=1)]: Done  10 out of  10 | elapsed:    2.6s remaining:    0.0s\n",
      "[CV] max_depth=2, n_estimators=500 ...................................\n",
      "[CV]  max_depth=2, n_estimators=500, score=0.8094734640907564, total=   0.5s\n",
      "[Parallel(n_jobs=1)]: Done  11 out of  11 | elapsed:    3.1s remaining:    0.0s\n",
      "[CV] max_depth=2, n_estimators=500 ...................................\n",
      "[CV]  max_depth=2, n_estimators=500, score=0.7839577099171772, total=   0.6s\n",
      "[Parallel(n_jobs=1)]: Done  12 out of  12 | elapsed:    3.7s remaining:    0.0s\n",
      "[CV] max_depth=2, n_estimators=500 ...................................\n",
      "[CV]  max_depth=2, n_estimators=500, score=0.864968402006055, total=   0.5s\n",
      "[Parallel(n_jobs=1)]: Done  13 out of  13 | elapsed:    4.2s remaining:    0.0s\n",
      "[CV] max_depth=2, n_estimators=500 ...................................\n",
      "[CV]  max_depth=2, n_estimators=500, score=0.8123767974247357, total=   0.5s\n",
      "[Parallel(n_jobs=1)]: Done  14 out of  14 | elapsed:    4.7s remaining:    0.0s\n",
      "[CV] max_depth=2, n_estimators=500 ...................................\n",
      "[CV]  max_depth=2, n_estimators=500, score=0.042955968217883944, total=   0.5s\n",
      "[Parallel(n_jobs=1)]: Done  15 out of  15 | elapsed:    5.2s remaining:    0.0s\n",
      "[CV] max_depth=2, n_estimators=700 ...................................\n",
      "[CV]  max_depth=2, n_estimators=700, score=0.8551968676093183, total=   0.7s\n",
      "[Parallel(n_jobs=1)]: Done  16 out of  16 | elapsed:    5.9s remaining:    0.0s\n",
      "[CV] max_depth=2, n_estimators=700 ...................................\n",
      "[CV]  max_depth=2, n_estimators=700, score=0.8295545960753443, total=   0.6s\n",
      "[Parallel(n_jobs=1)]: Done  17 out of  17 | elapsed:    6.6s remaining:    0.0s\n",
      "[CV] max_depth=2, n_estimators=700 ...................................\n",
      "[CV]  max_depth=2, n_estimators=700, score=0.8730748754495321, total=   0.7s\n",
      "[Parallel(n_jobs=1)]: Done  18 out of  18 | elapsed:    7.3s remaining:    0.0s\n",
      "[CV] max_depth=2, n_estimators=700 ...................................\n",
      "[CV]  max_depth=2, n_estimators=700, score=0.8262685800085317, total=   0.7s\n",
      "[Parallel(n_jobs=1)]: Done  19 out of  19 | elapsed:    7.9s remaining:    0.0s\n",
      "[CV] max_depth=2, n_estimators=700 ...................................\n",
      "[CV]  max_depth=2, n_estimators=700, score=0.22186539583193873, total=   0.7s\n",
      "[Parallel(n_jobs=1)]: Done  20 out of  20 | elapsed:    8.6s remaining:    0.0s\n",
      "[CV] max_depth=3, n_estimators=100 ...................................\n",
      "[CV]  max_depth=3, n_estimators=100, score=0.05931270264777189, total=   0.2s\n",
      "[Parallel(n_jobs=1)]: Done  21 out of  21 | elapsed:    8.8s remaining:    0.0s\n",
      "[CV] max_depth=3, n_estimators=100 ...................................\n",
      "[CV]  max_depth=3, n_estimators=100, score=0.17621362937755458, total=   0.2s\n",
      "[Parallel(n_jobs=1)]: Done  22 out of  22 | elapsed:    9.0s remaining:    0.0s\n",
      "[CV] max_depth=3, n_estimators=100 ...................................\n",
      "[CV]  max_depth=3, n_estimators=100, score=0.4626405767836389, total=   0.2s\n",
      "[Parallel(n_jobs=1)]: Done  23 out of  23 | elapsed:    9.2s remaining:    0.0s\n",
      "[CV] max_depth=3, n_estimators=100 ...................................\n",
      "[CV]  max_depth=3, n_estimators=100, score=0.47536630915479294, total=   0.2s\n",
      "[Parallel(n_jobs=1)]: Done  24 out of  24 | elapsed:    9.3s remaining:    0.0s\n",
      "[CV] max_depth=3, n_estimators=100 ...................................\n",
      "[CV]  max_depth=3, n_estimators=100, score=-1.3310337476508294, total=   0.2s\n",
      "[Parallel(n_jobs=1)]: Done  25 out of  25 | elapsed:    9.5s remaining:    0.0s\n",
      "[CV] max_depth=3, n_estimators=300 ...................................\n",
      "[CV]  max_depth=3, n_estimators=300, score=0.7357387767511432, total=   0.5s\n",
      "[Parallel(n_jobs=1)]: Done  26 out of  26 | elapsed:   10.0s remaining:    0.0s\n",
      "[CV] max_depth=3, n_estimators=300 ...................................\n",
      "[CV]  max_depth=3, n_estimators=300, score=0.7213111513350956, total=   0.4s\n",
      "[Parallel(n_jobs=1)]: Done  27 out of  27 | elapsed:   10.4s remaining:    0.0s\n",
      "[CV] max_depth=3, n_estimators=300 ...................................\n",
      "[CV]  max_depth=3, n_estimators=300, score=0.8008585471722176, total=   0.5s\n",
      "[Parallel(n_jobs=1)]: Done  28 out of  28 | elapsed:   10.9s remaining:    0.0s\n",
      "[CV] max_depth=3, n_estimators=300 ...................................\n",
      "[CV]  max_depth=3, n_estimators=300, score=0.7488688876338114, total=   0.5s\n",
      "[Parallel(n_jobs=1)]: Done  29 out of  29 | elapsed:   11.4s remaining:    0.0s\n",
      "[CV] max_depth=3, n_estimators=300 ...................................\n",
      "[CV]  max_depth=3, n_estimators=300, score=-0.09501278116241131, total=   0.5s\n",
      "[Parallel(n_jobs=1)]: Done  30 out of  30 | elapsed:   11.9s remaining:    0.0s\n",
      "[CV] max_depth=3, n_estimators=500 ...................................\n",
      "[CV]  max_depth=3, n_estimators=500, score=0.8460007444381445, total=   0.8s\n",
      "[Parallel(n_jobs=1)]: Done  31 out of  31 | elapsed:   12.7s remaining:    0.0s\n",
      "[CV] max_depth=3, n_estimators=500 ...................................\n",
      "[CV]  max_depth=3, n_estimators=500, score=0.820682749842448, total=   0.8s\n",
      "[Parallel(n_jobs=1)]: Done  32 out of  32 | elapsed:   13.5s remaining:    0.0s\n",
      "[CV] max_depth=3, n_estimators=500 ...................................\n",
      "[CV]  max_depth=3, n_estimators=500, score=0.8551668142662529, total=   0.8s\n",
      "[Parallel(n_jobs=1)]: Done  33 out of  33 | elapsed:   14.3s remaining:    0.0s\n",
      "[CV] max_depth=3, n_estimators=500 ...................................\n",
      "[CV]  max_depth=3, n_estimators=500, score=0.7965582249821468, total=   0.8s\n",
      "[Parallel(n_jobs=1)]: Done  34 out of  34 | elapsed:   15.1s remaining:    0.0s\n",
      "[CV] max_depth=3, n_estimators=500 ...................................\n",
      "[CV]  max_depth=3, n_estimators=500, score=0.20630059234384424, total=   0.8s\n",
      "[Parallel(n_jobs=1)]: Done  35 out of  35 | elapsed:   15.9s remaining:    0.0s\n",
      "[CV] max_depth=3, n_estimators=700 ...................................\n",
      "[CV]  max_depth=3, n_estimators=700, score=0.8617347217342463, total=   1.1s\n",
      "[Parallel(n_jobs=1)]: Done  36 out of  36 | elapsed:   17.0s remaining:    0.0s\n",
      "[CV] max_depth=3, n_estimators=700 ...................................\n"
     ]
    },
    {
     "name": "stdout",
     "output_type": "stream",
     "text": [
      "[CV]  max_depth=3, n_estimators=700, score=0.8461093215580775, total=   1.2s\n",
      "[Parallel(n_jobs=1)]: Done  37 out of  37 | elapsed:   18.2s remaining:    0.0s\n",
      "[CV] max_depth=3, n_estimators=700 ...................................\n",
      "[CV]  max_depth=3, n_estimators=700, score=0.8608892381266792, total=   1.2s\n",
      "[Parallel(n_jobs=1)]: Done  38 out of  38 | elapsed:   19.4s remaining:    0.0s\n",
      "[CV] max_depth=3, n_estimators=700 ...................................\n",
      "[CV]  max_depth=3, n_estimators=700, score=0.8022498076232154, total=   1.1s\n",
      "[Parallel(n_jobs=1)]: Done  39 out of  39 | elapsed:   20.5s remaining:    0.0s\n",
      "[CV] max_depth=3, n_estimators=700 ...................................\n",
      "[CV]  max_depth=3, n_estimators=700, score=0.33686344785286704, total=   1.1s\n",
      "[Parallel(n_jobs=1)]: Done  40 out of  40 | elapsed:   21.6s remaining:    0.0s\n",
      "[CV] max_depth=4, n_estimators=100 ...................................\n",
      "[CV]  max_depth=4, n_estimators=100, score=0.09793850878361143, total=   0.3s\n",
      "[Parallel(n_jobs=1)]: Done  41 out of  41 | elapsed:   21.9s remaining:    0.0s\n",
      "[CV] max_depth=4, n_estimators=100 ...................................\n",
      "[CV]  max_depth=4, n_estimators=100, score=0.1945400441589401, total=   0.2s\n",
      "[Parallel(n_jobs=1)]: Done  42 out of  42 | elapsed:   22.1s remaining:    0.0s\n",
      "[CV] max_depth=4, n_estimators=100 ...................................\n",
      "[CV]  max_depth=4, n_estimators=100, score=0.47133437436669173, total=   0.2s\n",
      "[Parallel(n_jobs=1)]: Done  43 out of  43 | elapsed:   22.3s remaining:    0.0s\n",
      "[CV] max_depth=4, n_estimators=100 ...................................\n",
      "[CV]  max_depth=4, n_estimators=100, score=0.5103274753030873, total=   0.2s\n",
      "[Parallel(n_jobs=1)]: Done  44 out of  44 | elapsed:   22.5s remaining:    0.0s\n",
      "[CV] max_depth=4, n_estimators=100 ...................................\n",
      "[CV]  max_depth=4, n_estimators=100, score=-1.355331299879031, total=   0.2s\n",
      "[Parallel(n_jobs=1)]: Done  45 out of  45 | elapsed:   22.8s remaining:    0.0s\n",
      "[CV] max_depth=4, n_estimators=300 ...................................\n",
      "[CV]  max_depth=4, n_estimators=300, score=0.7478638934415873, total=   0.6s\n",
      "[Parallel(n_jobs=1)]: Done  46 out of  46 | elapsed:   23.4s remaining:    0.0s\n",
      "[CV] max_depth=4, n_estimators=300 ...................................\n",
      "[CV]  max_depth=4, n_estimators=300, score=0.7313674648840671, total=   0.6s\n",
      "[Parallel(n_jobs=1)]: Done  47 out of  47 | elapsed:   24.0s remaining:    0.0s\n",
      "[CV] max_depth=4, n_estimators=300 ...................................\n",
      "[CV]  max_depth=4, n_estimators=300, score=0.8029945579993426, total=   0.6s\n",
      "[Parallel(n_jobs=1)]: Done  48 out of  48 | elapsed:   24.6s remaining:    0.0s\n",
      "[CV] max_depth=4, n_estimators=300 ...................................\n",
      "[CV]  max_depth=4, n_estimators=300, score=0.7765416902790965, total=   0.6s\n",
      "[Parallel(n_jobs=1)]: Done  49 out of  49 | elapsed:   25.3s remaining:    0.0s\n",
      "[CV] max_depth=4, n_estimators=300 ...................................\n",
      "[CV]  max_depth=4, n_estimators=300, score=-0.09956477695488153, total=   0.6s\n",
      "[Parallel(n_jobs=1)]: Done  50 out of  50 | elapsed:   25.9s remaining:    0.0s\n",
      "[CV] max_depth=4, n_estimators=500 ...................................\n",
      "[CV]  max_depth=4, n_estimators=500, score=0.8495718718798169, total=   1.0s\n",
      "[Parallel(n_jobs=1)]: Done  51 out of  51 | elapsed:   26.9s remaining:    0.0s\n",
      "[CV] max_depth=4, n_estimators=500 ...................................\n",
      "[CV]  max_depth=4, n_estimators=500, score=0.8313276245875515, total=   1.0s\n",
      "[Parallel(n_jobs=1)]: Done  52 out of  52 | elapsed:   27.9s remaining:    0.0s\n",
      "[CV] max_depth=4, n_estimators=500 ...................................\n",
      "[CV]  max_depth=4, n_estimators=500, score=0.8510926704412475, total=   1.0s\n",
      "[Parallel(n_jobs=1)]: Done  53 out of  53 | elapsed:   28.9s remaining:    0.0s\n",
      "[CV] max_depth=4, n_estimators=500 ...................................\n",
      "[CV]  max_depth=4, n_estimators=500, score=0.8086461365090396, total=   1.0s\n",
      "[Parallel(n_jobs=1)]: Done  54 out of  54 | elapsed:   29.9s remaining:    0.0s\n",
      "[CV] max_depth=4, n_estimators=500 ...................................\n",
      "[CV]  max_depth=4, n_estimators=500, score=0.22964897090675918, total=   1.0s\n",
      "[Parallel(n_jobs=1)]: Done  55 out of  55 | elapsed:   30.9s remaining:    0.0s\n",
      "[CV] max_depth=4, n_estimators=700 ...................................\n",
      "[CV]  max_depth=4, n_estimators=700, score=0.8626146332807106, total=   1.2s\n",
      "[Parallel(n_jobs=1)]: Done  56 out of  56 | elapsed:   32.2s remaining:    0.0s\n",
      "[CV] max_depth=4, n_estimators=700 ...................................\n",
      "[CV]  max_depth=4, n_estimators=700, score=0.8580209281854542, total=   1.4s\n",
      "[Parallel(n_jobs=1)]: Done  57 out of  57 | elapsed:   33.6s remaining:    0.0s\n",
      "[CV] max_depth=4, n_estimators=700 ...................................\n",
      "[CV]  max_depth=4, n_estimators=700, score=0.8566494603403749, total=   1.4s\n",
      "[Parallel(n_jobs=1)]: Done  58 out of  58 | elapsed:   34.9s remaining:    0.0s\n",
      "[CV] max_depth=4, n_estimators=700 ...................................\n",
      "[CV]  max_depth=4, n_estimators=700, score=0.7982105611789645, total=   1.3s\n",
      "[Parallel(n_jobs=1)]: Done  59 out of  59 | elapsed:   36.2s remaining:    0.0s\n",
      "[CV] max_depth=4, n_estimators=700 ...................................\n",
      "[CV]  max_depth=4, n_estimators=700, score=0.3566678054684468, total=   1.4s\n",
      "[Parallel(n_jobs=1)]: Done  60 out of  60 | elapsed:   37.7s remaining:    0.0s\n",
      "[CV] max_depth=5, n_estimators=100 ...................................\n",
      "[CV]  max_depth=5, n_estimators=100, score=0.09797965405253294, total=   0.2s\n",
      "[Parallel(n_jobs=1)]: Done  61 out of  61 | elapsed:   37.9s remaining:    0.0s\n",
      "[CV] max_depth=5, n_estimators=100 ...................................\n",
      "[CV]  max_depth=5, n_estimators=100, score=0.19602929434458938, total=   0.2s\n",
      "[Parallel(n_jobs=1)]: Done  62 out of  62 | elapsed:   38.2s remaining:    0.0s\n",
      "[CV] max_depth=5, n_estimators=100 ...................................\n",
      "[CV]  max_depth=5, n_estimators=100, score=0.47118946927742045, total=   0.3s\n",
      "[Parallel(n_jobs=1)]: Done  63 out of  63 | elapsed:   38.4s remaining:    0.0s\n",
      "[CV] max_depth=5, n_estimators=100 ...................................\n",
      "[CV]  max_depth=5, n_estimators=100, score=0.5092939310112469, total=   0.2s\n",
      "[Parallel(n_jobs=1)]: Done  64 out of  64 | elapsed:   38.6s remaining:    0.0s\n",
      "[CV] max_depth=5, n_estimators=100 ...................................\n",
      "[CV]  max_depth=5, n_estimators=100, score=-1.3567888649490687, total=   0.2s\n",
      "[Parallel(n_jobs=1)]: Done  65 out of  65 | elapsed:   38.9s remaining:    0.0s\n",
      "[CV] max_depth=5, n_estimators=300 ...................................\n",
      "[CV]  max_depth=5, n_estimators=300, score=0.7460815743936331, total=   0.7s\n",
      "[Parallel(n_jobs=1)]: Done  66 out of  66 | elapsed:   39.5s remaining:    0.0s\n",
      "[CV] max_depth=5, n_estimators=300 ...................................\n",
      "[CV]  max_depth=5, n_estimators=300, score=0.7311549283794919, total=   0.7s\n",
      "[Parallel(n_jobs=1)]: Done  67 out of  67 | elapsed:   40.2s remaining:    0.0s\n",
      "[CV] max_depth=5, n_estimators=300 ...................................\n",
      "[CV]  max_depth=5, n_estimators=300, score=0.801862868897021, total=   0.6s\n",
      "[Parallel(n_jobs=1)]: Done  68 out of  68 | elapsed:   40.8s remaining:    0.0s\n",
      "[CV] max_depth=5, n_estimators=300 ...................................\n",
      "[CV]  max_depth=5, n_estimators=300, score=0.7767621420867109, total=   0.7s\n",
      "[Parallel(n_jobs=1)]: Done  69 out of  69 | elapsed:   41.5s remaining:    0.0s\n",
      "[CV] max_depth=5, n_estimators=300 ...................................\n",
      "[CV]  max_depth=5, n_estimators=300, score=-0.09760211196086721, total=   0.6s\n",
      "[Parallel(n_jobs=1)]: Done  70 out of  70 | elapsed:   42.1s remaining:    0.0s\n",
      "[CV] max_depth=5, n_estimators=500 ...................................\n",
      "[CV]  max_depth=5, n_estimators=500, score=0.8471221214941714, total=   1.1s\n",
      "[Parallel(n_jobs=1)]: Done  71 out of  71 | elapsed:   43.2s remaining:    0.0s\n",
      "[CV] max_depth=5, n_estimators=500 ...................................\n",
      "[CV]  max_depth=5, n_estimators=500, score=0.8362398346694884, total=   1.0s\n",
      "[Parallel(n_jobs=1)]: Done  72 out of  72 | elapsed:   44.2s remaining:    0.0s\n",
      "[CV] max_depth=5, n_estimators=500 ...................................\n"
     ]
    },
    {
     "name": "stdout",
     "output_type": "stream",
     "text": [
      "[CV]  max_depth=5, n_estimators=500, score=0.8493488605760787, total=   1.0s\n",
      "[Parallel(n_jobs=1)]: Done  73 out of  73 | elapsed:   45.3s remaining:    0.0s\n",
      "[CV] max_depth=5, n_estimators=500 ...................................\n",
      "[CV]  max_depth=5, n_estimators=500, score=0.8107553709503178, total=   1.0s\n",
      "[Parallel(n_jobs=1)]: Done  74 out of  74 | elapsed:   46.3s remaining:    0.0s\n",
      "[CV] max_depth=5, n_estimators=500 ...................................\n",
      "[CV]  max_depth=5, n_estimators=500, score=0.22775060017807858, total=   1.1s\n",
      "[Parallel(n_jobs=1)]: Done  75 out of  75 | elapsed:   47.4s remaining:    0.0s\n",
      "[CV] max_depth=5, n_estimators=700 ...................................\n",
      "[CV]  max_depth=5, n_estimators=700, score=0.8604039505313364, total=   1.3s\n",
      "[Parallel(n_jobs=1)]: Done  76 out of  76 | elapsed:   48.8s remaining:    0.0s\n",
      "[CV] max_depth=5, n_estimators=700 ...................................\n",
      "[CV]  max_depth=5, n_estimators=700, score=0.8580315151786939, total=   1.4s\n",
      "[Parallel(n_jobs=1)]: Done  77 out of  77 | elapsed:   50.2s remaining:    0.0s\n",
      "[CV] max_depth=5, n_estimators=700 ...................................\n",
      "[CV]  max_depth=5, n_estimators=700, score=0.8559644910719502, total=   1.3s\n",
      "[Parallel(n_jobs=1)]: Done  78 out of  78 | elapsed:   51.6s remaining:    0.0s\n",
      "[CV] max_depth=5, n_estimators=700 ...................................\n",
      "[CV]  max_depth=5, n_estimators=700, score=0.8038694704396891, total=   1.4s\n",
      "[Parallel(n_jobs=1)]: Done  79 out of  79 | elapsed:   53.0s remaining:    0.0s\n",
      "[CV] max_depth=5, n_estimators=700 ...................................\n",
      "[CV]  max_depth=5, n_estimators=700, score=0.3622353984271312, total=   1.3s\n",
      "[Parallel(n_jobs=1)]: Done  80 out of  80 | elapsed:   54.3s remaining:    0.0s\n",
      "[CV] max_depth=6, n_estimators=100 ...................................\n",
      "[CV]  max_depth=6, n_estimators=100, score=0.09797965405253294, total=   0.2s\n",
      "[Parallel(n_jobs=1)]: Done  81 out of  81 | elapsed:   54.5s remaining:    0.0s\n",
      "[CV] max_depth=6, n_estimators=100 ...................................\n",
      "[CV]  max_depth=6, n_estimators=100, score=0.19602929434458938, total=   0.2s\n",
      "[Parallel(n_jobs=1)]: Done  82 out of  82 | elapsed:   54.8s remaining:    0.0s\n",
      "[CV] max_depth=6, n_estimators=100 ...................................\n",
      "[CV]  max_depth=6, n_estimators=100, score=0.47118946927742045, total=   0.2s\n",
      "[Parallel(n_jobs=1)]: Done  83 out of  83 | elapsed:   55.0s remaining:    0.0s\n",
      "[CV] max_depth=6, n_estimators=100 ...................................\n",
      "[CV]  max_depth=6, n_estimators=100, score=0.5092939310112469, total=   0.2s\n",
      "[Parallel(n_jobs=1)]: Done  84 out of  84 | elapsed:   55.2s remaining:    0.0s\n",
      "[CV] max_depth=6, n_estimators=100 ...................................\n",
      "[CV]  max_depth=6, n_estimators=100, score=-1.3567888649490687, total=   0.2s\n",
      "[Parallel(n_jobs=1)]: Done  85 out of  85 | elapsed:   55.4s remaining:    0.0s\n",
      "[CV] max_depth=6, n_estimators=300 ...................................\n",
      "[CV]  max_depth=6, n_estimators=300, score=0.7460822278140304, total=   0.6s\n",
      "[Parallel(n_jobs=1)]: Done  86 out of  86 | elapsed:   56.1s remaining:    0.0s\n",
      "[CV] max_depth=6, n_estimators=300 ...................................\n",
      "[CV]  max_depth=6, n_estimators=300, score=0.7306130493382256, total=   0.6s\n",
      "[Parallel(n_jobs=1)]: Done  87 out of  87 | elapsed:   56.6s remaining:    0.0s\n",
      "[CV] max_depth=6, n_estimators=300 ...................................\n",
      "[CV]  max_depth=6, n_estimators=300, score=0.8012315453589773, total=   0.6s\n",
      "[Parallel(n_jobs=1)]: Done  88 out of  88 | elapsed:   57.3s remaining:    0.0s\n",
      "[CV] max_depth=6, n_estimators=300 ...................................\n",
      "[CV]  max_depth=6, n_estimators=300, score=0.7764732335186295, total=   0.7s\n",
      "[Parallel(n_jobs=1)]: Done  89 out of  89 | elapsed:   58.0s remaining:    0.0s\n",
      "[CV] max_depth=6, n_estimators=300 ...................................\n",
      "[CV]  max_depth=6, n_estimators=300, score=-0.09873732016473102, total=   0.6s\n",
      "[Parallel(n_jobs=1)]: Done  90 out of  90 | elapsed:   58.6s remaining:    0.0s\n",
      "[CV] max_depth=6, n_estimators=500 ...................................\n",
      "[CV]  max_depth=6, n_estimators=500, score=0.8471237788516525, total=   1.1s\n",
      "[Parallel(n_jobs=1)]: Done  91 out of  91 | elapsed:   59.7s remaining:    0.0s\n",
      "[CV] max_depth=6, n_estimators=500 ...................................\n",
      "[CV]  max_depth=6, n_estimators=500, score=0.8384255656298736, total=   1.1s\n",
      "[Parallel(n_jobs=1)]: Done  92 out of  92 | elapsed:  1.0min remaining:    0.0s\n",
      "[CV] max_depth=6, n_estimators=500 ...................................\n",
      "[CV]  max_depth=6, n_estimators=500, score=0.8486297951228169, total=   1.0s\n",
      "[Parallel(n_jobs=1)]: Done  93 out of  93 | elapsed:  1.0min remaining:    0.0s\n",
      "[CV] max_depth=6, n_estimators=500 ...................................\n",
      "[CV]  max_depth=6, n_estimators=500, score=0.8118566749672324, total=   1.0s\n",
      "[Parallel(n_jobs=1)]: Done  94 out of  94 | elapsed:  1.0min remaining:    0.0s\n",
      "[CV] max_depth=6, n_estimators=500 ...................................\n",
      "[CV]  max_depth=6, n_estimators=500, score=0.23017184974878446, total=   1.0s\n",
      "[Parallel(n_jobs=1)]: Done  95 out of  95 | elapsed:  1.1min remaining:    0.0s\n",
      "[CV] max_depth=6, n_estimators=700 ...................................\n",
      "[CV]  max_depth=6, n_estimators=700, score=0.8593226707139889, total=   1.5s\n",
      "[Parallel(n_jobs=1)]: Done  96 out of  96 | elapsed:  1.1min remaining:    0.0s\n",
      "[CV] max_depth=6, n_estimators=700 ...................................\n",
      "[CV]  max_depth=6, n_estimators=700, score=0.8585541295234775, total=   1.5s\n",
      "[Parallel(n_jobs=1)]: Done  97 out of  97 | elapsed:  1.1min remaining:    0.0s\n",
      "[CV] max_depth=6, n_estimators=700 ...................................\n",
      "[CV]  max_depth=6, n_estimators=700, score=0.8552500060634214, total=   1.4s\n",
      "[Parallel(n_jobs=1)]: Done  98 out of  98 | elapsed:  1.1min remaining:    0.0s\n",
      "[CV] max_depth=6, n_estimators=700 ...................................\n",
      "[CV]  max_depth=6, n_estimators=700, score=0.8043770387706675, total=   2.0s\n",
      "[Parallel(n_jobs=1)]: Done  99 out of  99 | elapsed:  1.2min remaining:    0.0s\n",
      "[CV] max_depth=6, n_estimators=700 ...................................\n",
      "[CV]  max_depth=6, n_estimators=700, score=0.36596308322814447, total=   1.5s\n",
      "[CV] max_depth=7, n_estimators=100 ...................................\n",
      "[CV]  max_depth=7, n_estimators=100, score=0.09797965405253294, total=   0.2s\n",
      "[CV] max_depth=7, n_estimators=100 ...................................\n",
      "[CV]  max_depth=7, n_estimators=100, score=0.19602929434458938, total=   0.2s\n",
      "[CV] max_depth=7, n_estimators=100 ...................................\n",
      "[CV]  max_depth=7, n_estimators=100, score=0.47118946927742045, total=   0.2s\n",
      "[CV] max_depth=7, n_estimators=100 ...................................\n",
      "[CV]  max_depth=7, n_estimators=100, score=0.5092939310112469, total=   0.2s\n",
      "[CV] max_depth=7, n_estimators=100 ...................................\n",
      "[CV]  max_depth=7, n_estimators=100, score=-1.3567888649490687, total=   0.2s\n",
      "[CV] max_depth=7, n_estimators=300 ...................................\n",
      "[CV]  max_depth=7, n_estimators=300, score=0.7460822278140304, total=   0.6s\n",
      "[CV] max_depth=7, n_estimators=300 ...................................\n",
      "[CV]  max_depth=7, n_estimators=300, score=0.7306130493382256, total=   0.6s\n",
      "[CV] max_depth=7, n_estimators=300 ...................................\n",
      "[CV]  max_depth=7, n_estimators=300, score=0.8012315453589773, total=   0.7s\n",
      "[CV] max_depth=7, n_estimators=300 ...................................\n",
      "[CV]  max_depth=7, n_estimators=300, score=0.7764732335186295, total=   0.7s\n",
      "[CV] max_depth=7, n_estimators=300 ...................................\n",
      "[CV]  max_depth=7, n_estimators=300, score=-0.09873732016473102, total=   0.6s\n",
      "[CV] max_depth=7, n_estimators=500 ...................................\n",
      "[CV]  max_depth=7, n_estimators=500, score=0.8471203607866984, total=   1.1s\n",
      "[CV] max_depth=7, n_estimators=500 ...................................\n",
      "[CV]  max_depth=7, n_estimators=500, score=0.837696836185515, total=   1.1s\n",
      "[CV] max_depth=7, n_estimators=500 ...................................\n",
      "[CV]  max_depth=7, n_estimators=500, score=0.8491500653151822, total=   1.0s\n",
      "[CV] max_depth=7, n_estimators=500 ...................................\n"
     ]
    },
    {
     "name": "stdout",
     "output_type": "stream",
     "text": [
      "[CV]  max_depth=7, n_estimators=500, score=0.8116179774918789, total=   1.1s\n",
      "[CV] max_depth=7, n_estimators=500 ...................................\n",
      "[CV]  max_depth=7, n_estimators=500, score=0.23092476921205163, total=   1.1s\n",
      "[CV] max_depth=7, n_estimators=700 ...................................\n",
      "[CV]  max_depth=7, n_estimators=700, score=0.859033310763765, total=   1.4s\n",
      "[CV] max_depth=7, n_estimators=700 ...................................\n",
      "[CV]  max_depth=7, n_estimators=700, score=0.858247756968916, total=   1.4s\n",
      "[CV] max_depth=7, n_estimators=700 ...................................\n",
      "[CV]  max_depth=7, n_estimators=700, score=0.8557073428317006, total=   1.4s\n",
      "[CV] max_depth=7, n_estimators=700 ...................................\n",
      "[CV]  max_depth=7, n_estimators=700, score=0.8048931365918268, total=   1.4s\n",
      "[CV] max_depth=7, n_estimators=700 ...................................\n",
      "[CV]  max_depth=7, n_estimators=700, score=0.3635538978015697, total=   1.5s\n",
      "[CV] max_depth=8, n_estimators=100 ...................................\n",
      "[CV]  max_depth=8, n_estimators=100, score=0.09797965405253294, total=   0.2s\n",
      "[CV] max_depth=8, n_estimators=100 ...................................\n",
      "[CV]  max_depth=8, n_estimators=100, score=0.19602929434458938, total=   0.2s\n",
      "[CV] max_depth=8, n_estimators=100 ...................................\n",
      "[CV]  max_depth=8, n_estimators=100, score=0.47118946927742045, total=   0.2s\n",
      "[CV] max_depth=8, n_estimators=100 ...................................\n",
      "[CV]  max_depth=8, n_estimators=100, score=0.5092939310112469, total=   0.2s\n",
      "[CV] max_depth=8, n_estimators=100 ...................................\n",
      "[CV]  max_depth=8, n_estimators=100, score=-1.3567888649490687, total=   0.2s\n",
      "[CV] max_depth=8, n_estimators=300 ...................................\n",
      "[CV]  max_depth=8, n_estimators=300, score=0.7460822278140304, total=   0.6s\n",
      "[CV] max_depth=8, n_estimators=300 ...................................\n",
      "[CV]  max_depth=8, n_estimators=300, score=0.7306130493382256, total=   0.6s\n",
      "[CV] max_depth=8, n_estimators=300 ...................................\n",
      "[CV]  max_depth=8, n_estimators=300, score=0.8012315453589773, total=   0.6s\n",
      "[CV] max_depth=8, n_estimators=300 ...................................\n",
      "[CV]  max_depth=8, n_estimators=300, score=0.7764732335186295, total=   0.6s\n",
      "[CV] max_depth=8, n_estimators=300 ...................................\n",
      "[CV]  max_depth=8, n_estimators=300, score=-0.09873732016473102, total=   0.7s\n",
      "[CV] max_depth=8, n_estimators=500 ...................................\n",
      "[CV]  max_depth=8, n_estimators=500, score=0.8471724955877509, total=   1.1s\n",
      "[CV] max_depth=8, n_estimators=500 ...................................\n",
      "[CV]  max_depth=8, n_estimators=500, score=0.837696836185515, total=   1.0s\n",
      "[CV] max_depth=8, n_estimators=500 ...................................\n",
      "[CV]  max_depth=8, n_estimators=500, score=0.8491500653151822, total=   1.1s\n",
      "[CV] max_depth=8, n_estimators=500 ...................................\n",
      "[CV]  max_depth=8, n_estimators=500, score=0.8116179774918789, total=   1.0s\n",
      "[CV] max_depth=8, n_estimators=500 ...................................\n",
      "[CV]  max_depth=8, n_estimators=500, score=0.23092476921205163, total=   1.0s\n",
      "[CV] max_depth=8, n_estimators=700 ...................................\n",
      "[CV]  max_depth=8, n_estimators=700, score=0.8586480623807881, total=   1.6s\n",
      "[CV] max_depth=8, n_estimators=700 ...................................\n",
      "[CV]  max_depth=8, n_estimators=700, score=0.858247756968916, total=   1.4s\n",
      "[CV] max_depth=8, n_estimators=700 ...................................\n",
      "[CV]  max_depth=8, n_estimators=700, score=0.8557312380157465, total=   1.4s\n",
      "[CV] max_depth=8, n_estimators=700 ...................................\n",
      "[CV]  max_depth=8, n_estimators=700, score=0.8050169494732611, total=   1.4s\n",
      "[CV] max_depth=8, n_estimators=700 ...................................\n",
      "[CV]  max_depth=8, n_estimators=700, score=0.363860337276556, total=   1.4s\n",
      "[CV] max_depth=9, n_estimators=100 ...................................\n",
      "[CV]  max_depth=9, n_estimators=100, score=0.09797965405253294, total=   0.2s\n",
      "[CV] max_depth=9, n_estimators=100 ...................................\n",
      "[CV]  max_depth=9, n_estimators=100, score=0.19602929434458938, total=   0.2s\n",
      "[CV] max_depth=9, n_estimators=100 ...................................\n",
      "[CV]  max_depth=9, n_estimators=100, score=0.47118946927742045, total=   0.2s\n",
      "[CV] max_depth=9, n_estimators=100 ...................................\n",
      "[CV]  max_depth=9, n_estimators=100, score=0.5092939310112469, total=   0.2s\n",
      "[CV] max_depth=9, n_estimators=100 ...................................\n",
      "[CV]  max_depth=9, n_estimators=100, score=-1.3567888649490687, total=   0.2s\n",
      "[CV] max_depth=9, n_estimators=300 ...................................\n",
      "[CV]  max_depth=9, n_estimators=300, score=0.7460822278140304, total=   0.6s\n",
      "[CV] max_depth=9, n_estimators=300 ...................................\n",
      "[CV]  max_depth=9, n_estimators=300, score=0.7306130493382256, total=   0.7s\n",
      "[CV] max_depth=9, n_estimators=300 ...................................\n",
      "[CV]  max_depth=9, n_estimators=300, score=0.8012315453589773, total=   0.6s\n",
      "[CV] max_depth=9, n_estimators=300 ...................................\n",
      "[CV]  max_depth=9, n_estimators=300, score=0.7764732335186295, total=   0.7s\n",
      "[CV] max_depth=9, n_estimators=300 ...................................\n",
      "[CV]  max_depth=9, n_estimators=300, score=-0.09873732016473102, total=   0.8s\n",
      "[CV] max_depth=9, n_estimators=500 ...................................\n",
      "[CV]  max_depth=9, n_estimators=500, score=0.8471724955877509, total=   1.5s\n",
      "[CV] max_depth=9, n_estimators=500 ...................................\n",
      "[CV]  max_depth=9, n_estimators=500, score=0.837696836185515, total=   1.6s\n",
      "[CV] max_depth=9, n_estimators=500 ...................................\n",
      "[CV]  max_depth=9, n_estimators=500, score=0.8491500653151822, total=   1.3s\n",
      "[CV] max_depth=9, n_estimators=500 ...................................\n",
      "[CV]  max_depth=9, n_estimators=500, score=0.8116179774918789, total=   1.1s\n",
      "[CV] max_depth=9, n_estimators=500 ...................................\n",
      "[CV]  max_depth=9, n_estimators=500, score=0.23092476921205163, total=   1.1s\n",
      "[CV] max_depth=9, n_estimators=700 ...................................\n",
      "[CV]  max_depth=9, n_estimators=700, score=0.8586480623807881, total=   1.4s\n",
      "[CV] max_depth=9, n_estimators=700 ...................................\n",
      "[CV]  max_depth=9, n_estimators=700, score=0.858247756968916, total=   1.5s\n",
      "[CV] max_depth=9, n_estimators=700 ...................................\n",
      "[CV]  max_depth=9, n_estimators=700, score=0.8557312380157465, total=   1.5s\n",
      "[CV] max_depth=9, n_estimators=700 ...................................\n",
      "[CV]  max_depth=9, n_estimators=700, score=0.8050169494732611, total=   1.4s\n",
      "[CV] max_depth=9, n_estimators=700 ...................................\n",
      "[CV]  max_depth=9, n_estimators=700, score=0.363860337276556, total=   1.3s\n",
      "[Parallel(n_jobs=1)]: Done 160 out of 160 | elapsed:  2.1min finished\n"
     ]
    },
    {
     "data": {
      "text/plain": [
       "GridSearchCV(cv=5, error_score='raise',\n",
       "       estimator=LGBMRegressor(boosting_type='gbdt', class_weight=None, colsample_bytree=1,\n",
       "       learning_rate=0.005, max_bin=25, max_depth=5, min_child_samples=10,\n",
       "       min_child_weight=5, min_split_gain=0, n_estimators=675, n_jobs=-1,\n",
       "       nthread=-1, num_leaves=10, objective=None, random_state=None,\n",
       "       reg_alpha=0, reg_lambda=0, seed=0, silent=True, subsample=0.995,\n",
       "       subsample_for_bin=50000, subsample_freq=1),\n",
       "       fit_params=None, iid=True, n_jobs=1,\n",
       "       param_grid={'max_depth': range(2, 10), 'n_estimators': range(100, 800, 200)},\n",
       "       pre_dispatch='2*n_jobs', refit=True, return_train_score='warn',\n",
       "       scoring=None, verbose=100)"
      ]
     },
     "execution_count": 21,
     "metadata": {},
     "output_type": "execute_result"
    }
   ],
   "source": [
    "from sklearn.model_selection import GridSearchCV\n",
    "parameters = {'max_depth': range(2,10,1),\n",
    "              'n_estimators': range(100, 800, 200)}\n",
    "grid = GridSearchCV(model, parameters, cv=5, verbose=100)\n",
    "grid.fit(X, y)"
   ]
  },
  {
   "cell_type": "markdown",
   "metadata": {},
   "source": [
    "## Best parameters"
   ]
  },
  {
   "cell_type": "code",
   "execution_count": 22,
   "metadata": {},
   "outputs": [
    {
     "data": {
      "text/plain": [
       "{'max_depth': 6, 'n_estimators': 700}"
      ]
     },
     "execution_count": 22,
     "metadata": {},
     "output_type": "execute_result"
    }
   ],
   "source": [
    "grid.best_params_"
   ]
  },
  {
   "cell_type": "markdown",
   "metadata": {},
   "source": [
    "## Final score"
   ]
  },
  {
   "cell_type": "code",
   "execution_count": 23,
   "metadata": {},
   "outputs": [
    {
     "data": {
      "text/plain": [
       "array([0.74226801, 0.83270431, 0.2544222 ])"
      ]
     },
     "execution_count": 23,
     "metadata": {},
     "output_type": "execute_result"
    }
   ],
   "source": [
    "model = LGBMRegressor(boosting_type='gbdt', num_leaves=10, max_depth=6, learning_rate=0.005, n_estimators=700, max_bin=25, subsample_for_bin=50000, objective=None, min_split_gain=0, min_child_weight=5, min_child_samples=10, subsample=0.995, subsample_freq=1, colsample_bytree=1, reg_alpha=0, reg_lambda=0, seed=0, nthread=-1, silent=True)\n",
    "cross_val_score(model, X, y, cv=3)"
   ]
  }
 ],
 "metadata": {
  "kernelspec": {
   "display_name": "Python 3",
   "language": "python",
   "name": "python3"
  },
  "language_info": {
   "codemirror_mode": {
    "name": "ipython",
    "version": 3
   },
   "file_extension": ".py",
   "mimetype": "text/x-python",
   "name": "python",
   "nbconvert_exporter": "python",
   "pygments_lexer": "ipython3",
   "version": "3.6.5"
  }
 },
 "nbformat": 4,
 "nbformat_minor": 2
}
